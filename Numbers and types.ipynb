{
 "cells": [
  {
   "cell_type": "code",
   "execution_count": 9,
   "id": "3d9ca35c-0d0c-4f87-84ed-2d7511cd4f9d",
   "metadata": {},
   "outputs": [
    {
     "name": "stdout",
     "output_type": "stream",
     "text": [
      "Seconds per hour:  3600\n",
      "Seconds per day:  86400\n",
      "Seconds per day/per hour:  24.0\n",
      "Seconds per day//per hour:  24\n"
     ]
    }
   ],
   "source": [
    "seconds_per_hour = 60*60\n",
    "print(\"Seconds per hour: \",seconds_per_hour)\n",
    "print(\"Seconds per day: \",seconds_per_hour*24)\n",
    "seconds_per_day = seconds_per_hour*24\n",
    "print(\"Seconds per day/per hour: \",seconds_per_day/seconds_per_hour)\n",
    "print(\"Seconds per day//per hour: \",seconds_per_day//seconds_per_hour)\n",
    "This value agreed with the float value from the previous question"
   ]
  },
  {
   "cell_type": "markdown",
   "id": "94405db9-9310-4990-a23f-5f150ee4724f",
   "metadata": {},
   "source": []
  }
 ],
 "metadata": {
  "kernelspec": {
   "display_name": "Python 3 (ipykernel)",
   "language": "python",
   "name": "python3"
  },
  "language_info": {
   "codemirror_mode": {
    "name": "ipython",
    "version": 3
   },
   "file_extension": ".py",
   "mimetype": "text/x-python",
   "name": "python",
   "nbconvert_exporter": "python",
   "pygments_lexer": "ipython3",
   "version": "3.11.7"
  }
 },
 "nbformat": 4,
 "nbformat_minor": 5
}
